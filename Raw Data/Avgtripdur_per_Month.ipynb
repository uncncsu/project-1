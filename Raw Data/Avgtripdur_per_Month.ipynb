{
 "cells": [
  {
   "cell_type": "code",
   "execution_count": null,
   "metadata": {},
   "outputs": [],
   "source": [
    "%matplotlib notebook"
   ]
  },
  {
   "cell_type": "code",
   "execution_count": null,
   "metadata": {},
   "outputs": [],
   "source": [
    "import pandas as pd\n",
    "import matplotlib.pyplot as plt\n",
    "import numpy as np\n",
    "import matplotlib.pyplot as plt\n",
    "import seaborn as sns"
   ]
  },
  {
   "cell_type": "code",
   "execution_count": 12,
   "metadata": {},
   "outputs": [],
   "source": [
    "\n",
    "df1 = pd.read_csv(\"Resources/MonthlyWeatherBostonMerged.csv\")\n",
    "df2 = pd.read_csv(\"Resources/MonthlyWeatherPortlandMerged.csv\")\n",
    "\n",
    "df1.head()\n",
    "\n",
    "dateindex=df1['dt_iso']\n",
    "x = df1['dt_iso']\n",
    "aa=dict(zip(x,df1['Average Trip Duration']))\n",
    "bb=dict(zip(x,df2['Average Trip Duration']))\n",
    "bars = ('Jan', 'Feb', 'Mar', 'Apr', 'Mar', 'Jun', 'Jul','Aug','Sep','Oct','Nov','Dec')\n",
    "\n",
    "\n",
    "dfbar = pd.DataFrame({'Boston': aa, 'Portland': bb}, index=dateindex)\n",
    "\n",
    "# Non-stacked bar plot\n",
    "dfbar.plot.bar(figsize=(10, 9))\n",
    "\n",
    "plt.title(\"Average Trip Duration per Month\")\n",
    "plt.legend(title=\"City\", loc=2)\n",
    "plt.xlabel('Months')\n",
    "plt.ylabel('Average Trip Duration(minutes)')\n",
    "plt.xticks(np.arange(12), bars)\n",
    "plt.show() "
   ]
  },
  {
   "cell_type": "code",
   "execution_count": 17,
   "metadata": {},
   "outputs": [],
   "source": [
    "plt.savefig(\"../Output_images/Avgtripdur_per_Month.png\")"
   ]
  },
  {
   "cell_type": "code",
   "execution_count": null,
   "metadata": {},
   "outputs": [],
   "source": []
  }
 ],
 "metadata": {
  "kernelspec": {
   "display_name": "Python 3",
   "language": "python",
   "name": "python3"
  },
  "language_info": {
   "codemirror_mode": {
    "name": "ipython",
    "version": 3
   },
   "file_extension": ".py",
   "mimetype": "text/x-python",
   "name": "python",
   "nbconvert_exporter": "python",
   "pygments_lexer": "ipython3",
   "version": "3.7.1"
  }
 },
 "nbformat": 4,
 "nbformat_minor": 2
}
