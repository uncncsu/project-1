{
 "cells": [
  {
   "cell_type": "code",
   "execution_count": 4,
   "metadata": {},
   "outputs": [],
   "source": [
    "import matplotlib.pyplot as plt\n",
    "import pandas as pd\n",
    "import numpy as np"
   ]
  },
  {
   "cell_type": "code",
   "execution_count": 5,
   "metadata": {},
   "outputs": [],
   "source": [
    "p_df = \"Final_Portland_Merged.csv\"\n",
    "b_df = \"FinalBostonMerged.csv\""
   ]
  },
  {
   "cell_type": "code",
   "execution_count": 6,
   "metadata": {},
   "outputs": [],
   "source": [
    "port_df = pd.read_csv(p_df)\n",
    "bost_df = pd.read_csv(b_df)"
   ]
  },
  {
   "cell_type": "code",
   "execution_count": 7,
   "metadata": {},
   "outputs": [
    {
     "data": {
      "text/html": [
       "<div>\n",
       "<style scoped>\n",
       "    .dataframe tbody tr th:only-of-type {\n",
       "        vertical-align: middle;\n",
       "    }\n",
       "\n",
       "    .dataframe tbody tr th {\n",
       "        vertical-align: top;\n",
       "    }\n",
       "\n",
       "    .dataframe thead th {\n",
       "        text-align: right;\n",
       "    }\n",
       "</style>\n",
       "<table border=\"1\" class=\"dataframe\">\n",
       "  <thead>\n",
       "    <tr style=\"text-align: right;\">\n",
       "      <th></th>\n",
       "      <th>Start Time</th>\n",
       "      <th>Average Trip Duration_por</th>\n",
       "      <th>Amount of Rides_por</th>\n",
       "      <th>Subscribers_por</th>\n",
       "      <th>Non Subscribers_por</th>\n",
       "      <th>Subscriber %_por</th>\n",
       "      <th>Non Subscriber %_por</th>\n",
       "      <th>Average Trip Duration_bos</th>\n",
       "      <th>Amount of Rides_bos</th>\n",
       "      <th>Subscribers_bos</th>\n",
       "      <th>Non Subscribers_bos</th>\n",
       "      <th>Subscriber %_bos</th>\n",
       "      <th>Non Subscriber %_bos</th>\n",
       "    </tr>\n",
       "  </thead>\n",
       "  <tbody>\n",
       "    <tr>\n",
       "      <th>0</th>\n",
       "      <td>2018-01-01 00:00:00</td>\n",
       "      <td>13.882353</td>\n",
       "      <td>17.0</td>\n",
       "      <td>8.0</td>\n",
       "      <td>9.0</td>\n",
       "      <td>47.0</td>\n",
       "      <td>53.0</td>\n",
       "      <td>10.750000</td>\n",
       "      <td>4.0</td>\n",
       "      <td>4.0</td>\n",
       "      <td>0.0</td>\n",
       "      <td>100.0</td>\n",
       "      <td>0.0</td>\n",
       "    </tr>\n",
       "    <tr>\n",
       "      <th>1</th>\n",
       "      <td>2018-01-01 01:00:00</td>\n",
       "      <td>15.400000</td>\n",
       "      <td>20.0</td>\n",
       "      <td>11.0</td>\n",
       "      <td>9.0</td>\n",
       "      <td>55.0</td>\n",
       "      <td>45.0</td>\n",
       "      <td>7.166667</td>\n",
       "      <td>6.0</td>\n",
       "      <td>6.0</td>\n",
       "      <td>0.0</td>\n",
       "      <td>100.0</td>\n",
       "      <td>0.0</td>\n",
       "    </tr>\n",
       "    <tr>\n",
       "      <th>2</th>\n",
       "      <td>2018-01-01 02:00:00</td>\n",
       "      <td>17.000000</td>\n",
       "      <td>5.0</td>\n",
       "      <td>3.0</td>\n",
       "      <td>2.0</td>\n",
       "      <td>60.0</td>\n",
       "      <td>40.0</td>\n",
       "      <td>8.000000</td>\n",
       "      <td>6.0</td>\n",
       "      <td>6.0</td>\n",
       "      <td>0.0</td>\n",
       "      <td>100.0</td>\n",
       "      <td>0.0</td>\n",
       "    </tr>\n",
       "    <tr>\n",
       "      <th>3</th>\n",
       "      <td>2018-01-01 03:00:00</td>\n",
       "      <td>32.000000</td>\n",
       "      <td>1.0</td>\n",
       "      <td>1.0</td>\n",
       "      <td>0.0</td>\n",
       "      <td>100.0</td>\n",
       "      <td>0.0</td>\n",
       "      <td>0.000000</td>\n",
       "      <td>0.0</td>\n",
       "      <td>0.0</td>\n",
       "      <td>0.0</td>\n",
       "      <td>0.0</td>\n",
       "      <td>0.0</td>\n",
       "    </tr>\n",
       "    <tr>\n",
       "      <th>4</th>\n",
       "      <td>2018-01-01 06:00:00</td>\n",
       "      <td>14.500000</td>\n",
       "      <td>2.0</td>\n",
       "      <td>2.0</td>\n",
       "      <td>0.0</td>\n",
       "      <td>100.0</td>\n",
       "      <td>0.0</td>\n",
       "      <td>6.666667</td>\n",
       "      <td>3.0</td>\n",
       "      <td>3.0</td>\n",
       "      <td>0.0</td>\n",
       "      <td>100.0</td>\n",
       "      <td>0.0</td>\n",
       "    </tr>\n",
       "  </tbody>\n",
       "</table>\n",
       "</div>"
      ],
      "text/plain": [
       "            Start Time  Average Trip Duration_por  Amount of Rides_por  \\\n",
       "0  2018-01-01 00:00:00                  13.882353                 17.0   \n",
       "1  2018-01-01 01:00:00                  15.400000                 20.0   \n",
       "2  2018-01-01 02:00:00                  17.000000                  5.0   \n",
       "3  2018-01-01 03:00:00                  32.000000                  1.0   \n",
       "4  2018-01-01 06:00:00                  14.500000                  2.0   \n",
       "\n",
       "   Subscribers_por  Non Subscribers_por  Subscriber %_por  \\\n",
       "0              8.0                  9.0              47.0   \n",
       "1             11.0                  9.0              55.0   \n",
       "2              3.0                  2.0              60.0   \n",
       "3              1.0                  0.0             100.0   \n",
       "4              2.0                  0.0             100.0   \n",
       "\n",
       "   Non Subscriber %_por  Average Trip Duration_bos  Amount of Rides_bos  \\\n",
       "0                  53.0                  10.750000                  4.0   \n",
       "1                  45.0                   7.166667                  6.0   \n",
       "2                  40.0                   8.000000                  6.0   \n",
       "3                   0.0                   0.000000                  0.0   \n",
       "4                   0.0                   6.666667                  3.0   \n",
       "\n",
       "   Subscribers_bos  Non Subscribers_bos  Subscriber %_bos  \\\n",
       "0              4.0                  0.0             100.0   \n",
       "1              6.0                  0.0             100.0   \n",
       "2              6.0                  0.0             100.0   \n",
       "3              0.0                  0.0               0.0   \n",
       "4              3.0                  0.0             100.0   \n",
       "\n",
       "   Non Subscriber %_bos  \n",
       "0                   0.0  \n",
       "1                   0.0  \n",
       "2                   0.0  \n",
       "3                   0.0  \n",
       "4                   0.0  "
      ]
     },
     "execution_count": 7,
     "metadata": {},
     "output_type": "execute_result"
    }
   ],
   "source": [
    "combined_df = pd.merge(port_df, bost_df,\n",
    "                                 how='outer', on='Start Time', suffixes=('_por', '_bos'))\n",
    "new_df = combined_df.fillna(value=0)\n",
    "new_df.head()"
   ]
  },
  {
   "cell_type": "code",
   "execution_count": 9,
   "metadata": {},
   "outputs": [
    {
     "data": {
      "text/plain": [
       "Index(['Start Time', 'Average Trip Duration_por', 'Amount of Rides_por',\n",
       "       'Subscribers_por', 'Non Subscribers_por', 'Subscriber %_por',\n",
       "       'Non Subscriber %_por', 'Average Trip Duration_bos',\n",
       "       'Amount of Rides_bos', 'Subscribers_bos', 'Non Subscribers_bos',\n",
       "       'Subscriber %_bos', 'Non Subscriber %_bos'],\n",
       "      dtype='object')"
      ]
     },
     "execution_count": 9,
     "metadata": {},
     "output_type": "execute_result"
    }
   ],
   "source": [
    "new_df.columns"
   ]
  },
  {
   "cell_type": "code",
   "execution_count": null,
   "metadata": {},
   "outputs": [],
   "source": []
  },
  {
   "cell_type": "code",
   "execution_count": null,
   "metadata": {},
   "outputs": [],
   "source": []
  }
 ],
 "metadata": {
  "kernelspec": {
   "display_name": "Python 3",
   "language": "python",
   "name": "python3"
  },
  "language_info": {
   "codemirror_mode": {
    "name": "ipython",
    "version": 3
   },
   "file_extension": ".py",
   "mimetype": "text/x-python",
   "name": "python",
   "nbconvert_exporter": "python",
   "pygments_lexer": "ipython3",
   "version": "3.7.1"
  }
 },
 "nbformat": 4,
 "nbformat_minor": 2
}
